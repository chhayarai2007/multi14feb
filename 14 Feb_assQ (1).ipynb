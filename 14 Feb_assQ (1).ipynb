{
 "cells": [
  {
   "cell_type": "markdown",
   "id": "05055881-aa47-4b19-b266-e0d13e95b1f5",
   "metadata": {},
   "source": [
    "Q1. what is multithreading in python? why is it used?Name the module used to handle threads in python."
   ]
  },
  {
   "cell_type": "raw",
   "id": "fdc9265e-a0d8-4aff-ae03-9c467c7fa578",
   "metadata": {},
   "source": [
    "ans:- Multithreading in python is a programming technique that allows you to run multiple threads within a single process.\n",
    "a thread is a lightweight process that can run independently of other threads."
   ]
  },
  {
   "cell_type": "raw",
   "id": "1f671e39-8529-4230-844d-6046a1686947",
   "metadata": {},
   "source": [
    "it is used to :-\n",
    " 1. improve the performance of python program by running multiple tasks.\n",
    " 2. to make our python program more responsive to user input.etc   "
   ]
  },
  {
   "cell_type": "markdown",
   "id": "38448d18-df69-43dd-889d-aea15d614af9",
   "metadata": {},
   "source": [
    "THREADING module is use to handle threads in python."
   ]
  },
  {
   "cell_type": "markdown",
   "id": "bc8d6af0-43a1-4bc5-8ba1-9edde1293478",
   "metadata": {},
   "source": [
    "Q2.why threading module used? write the uses of the following functions:\n",
    "    1. activeCount()\n",
    "    2.currentThread9()\n",
    "    3.enumerate()"
   ]
  },
  {
   "cell_type": "markdown",
   "id": "72fe2bb3-8c73-481e-92ae-5af75b490330",
   "metadata": {},
   "source": [
    "Ans:- threading module is used for creating, controlling and managing threads in python.\n",
    "threading.active_count() Function\n",
    "This function returns the number of Thread objects currently alive.\n",
    "\n",
    "\n",
    "import time\n",
    "import threading\n",
    "\n",
    "def thread1(i):\n",
    "    time.sleep(3)\n",
    "    #print('No. printed by Thread 1: %d' %i)\n",
    "\n",
    "def thread2(i):\n",
    "    time.sleep(3)\n",
    "    #print('No. printed by Thread 2: %d' %i)\n",
    "\n",
    "if __name__ == '__main__':\n",
    "    t1 = threading.Thread(target=thread1, args=(10,))\n",
    "    t2 = threading.Thread(target=thread2, args=(12,))\n",
    "    t1.start()\n",
    "    t2.start()\n",
    "    print(\"No. of active threads: \" + threading.active_count())\n",
    "    t1.join()\n",
    "    t2.join()\n",
    "\n",
    "No. of active threads: 3\n",
    "\n",
    "\n",
    "threading.current_thread()\n",
    "This function will return the current Thread object, corresponding to the caller's thread of control(which is in the control of caller currently). If the caller's thread of control was not created through the threading module(for example the main thread), then a dummy thread object with limited functionality is returned.\n",
    "\n"
   ]
  },
  {
   "cell_type": "markdown",
   "id": "d541f6fd-b7b1-49ed-9231-0371d606c44f",
   "metadata": {},
   "source": [
    "Q3. Explain the following functions\n",
    " run()\n",
    " start()\n",
    " join()\n",
    " isAlive()"
   ]
  },
  {
   "cell_type": "markdown",
   "id": "66905802-25c7-4d9e-9ad3-a4f6932184fd",
   "metadata": {},
   "source": [
    "Ans:- def run_a_star_join_is_alive(thread):\n",
    "  \"\"\"Runs a star join on the given thread and checks if it is alive.\n",
    "\n",
    "  Args:\n",
    "    thread: A threading.Thread object.\n",
    "\n",
    "  Returns:\n",
    "    True if the thread is alive, False otherwise.\n",
    "  \"\"\"\n",
    "\n",
    "  thread.join()\n",
    "  return thread.is_alive()\n",
    "\n",
    "\n",
    "This function takes a threading.Thread object as input and returns True if the thread is alive, False otherwise.\n",
    "The function first calls the join() method on the thread object. This blocks the calling thread until the thread whose join() method is called is terminated.\n",
    "Once the thread has been joined, the function calls the is_alive() method on the thread object. This method returns True if the thread is still alive, False otherwise.\n",
    "\n",
    "\n",
    "run() method executes any target function belonging to a given thread object that is now active. It normally executes in the background after the . start() method is invoked\n",
    "\n"
   ]
  },
  {
   "cell_type": "markdown",
   "id": "009690c9-9981-4718-b2f0-95f3bbbfa629",
   "metadata": {},
   "source": [
    "4. write a python program to create two threads. Thread one must print the list of squares and thread\n",
    "two must print the list of cubes"
   ]
  },
  {
   "cell_type": "code",
   "execution_count": 3,
   "id": "f9f7a458-01e4-4d3d-a125-11c772d0e642",
   "metadata": {},
   "outputs": [],
   "source": [
    "import threading"
   ]
  },
  {
   "cell_type": "code",
   "execution_count": 4,
   "id": "2aa271d7-6316-4f84-95b3-fd22e070eabe",
   "metadata": {},
   "outputs": [
    {
     "name": "stdout",
     "output_type": "stream",
     "text": [
      "Square: 100\n",
      "Cube: 1000\n",
      "Done!\n"
     ]
    }
   ],
   "source": [
    "def print_cube(num):\n",
    "    print(\"Cube: {}\" .format(num * num * num))\n",
    " \n",
    " \n",
    "def print_square(num):\n",
    "    print(\"Square: {}\" .format(num * num))\n",
    " \n",
    " \n",
    "if __name__ ==\"__main__\":\n",
    "    t1 = threading.Thread(target=print_square, args=(10,))\n",
    "    t2 = threading.Thread(target=print_cube, args=(10,))\n",
    " \n",
    "    t1.start()\n",
    "    t2.start()\n",
    " \n",
    "    t1.join()\n",
    "    t2.join()\n",
    " \n",
    "    print(\"Done!\")"
   ]
  },
  {
   "cell_type": "raw",
   "id": "efd2d429-36e2-4013-b1c3-73aa3883f0c2",
   "metadata": {},
   "source": [
    "5. State advantages and disadvantages of multithreading"
   ]
  },
  {
   "cell_type": "markdown",
   "id": "5b98d087-8ee0-4541-bcee-720500aa390c",
   "metadata": {},
   "source": [
    "Ans:-Advantages:\n",
    "\n",
    "It doesn’t block the user. This is because threads are independent of each other.\n",
    "Better use of system resources is possible since threads execute tasks parallely.\n",
    "Enhanced performance on multi-processor machines.\n",
    "Multi-threaded servers and interactive GUIs use multithreading exclusively.\n",
    "\n",
    "\n",
    "Disadvantages:\n",
    "\n",
    "As number of threads increase, complexity increases.\n",
    "Synchronization of shared resources (objects, data) is necessary.\n",
    "It is difficult to debug, result is sometimes unpredictable.\n",
    "Potential deadlocks which leads to starvation, i.e. some threads may not be served with a bad design\n",
    "Constructing and synchronizing threads is CPU/memory intensive.\n"
   ]
  },
  {
   "cell_type": "markdown",
   "id": "7175baac-4a64-4daf-aa97-7957da6c1cbe",
   "metadata": {},
   "source": [
    "6. Explain deadlocks and race conditions."
   ]
  },
  {
   "cell_type": "markdown",
   "id": "5400732f-65bd-44ba-82d8-109643a43f87",
   "metadata": {},
   "source": [
    "Ans: Race conditions and deadlocks are both situations that occur in multi-thread solutions and can affect device performance. In a race condition, two threads use the same variable at the same time, while in a deadlock, two threads try to get the same lock at the same time."
   ]
  },
  {
   "cell_type": "markdown",
   "id": "00758f2a-a6a9-459a-b588-8d0524dd23e8",
   "metadata": {},
   "source": []
  }
 ],
 "metadata": {
  "kernelspec": {
   "display_name": "Python 3 (ipykernel)",
   "language": "python",
   "name": "python3"
  },
  "language_info": {
   "codemirror_mode": {
    "name": "ipython",
    "version": 3
   },
   "file_extension": ".py",
   "mimetype": "text/x-python",
   "name": "python",
   "nbconvert_exporter": "python",
   "pygments_lexer": "ipython3",
   "version": "3.10.8"
  }
 },
 "nbformat": 4,
 "nbformat_minor": 5
}
